{
 "cells": [
  {
   "attachments": {},
   "cell_type": "markdown",
   "metadata": {},
   "source": [
    "## Funciones"
   ]
  },
  {
   "cell_type": "code",
   "execution_count": null,
   "metadata": {},
   "outputs": [],
   "source": [
    "# Función que saluda dado un nombre"
   ]
  },
  {
   "cell_type": "code",
   "execution_count": 1,
   "metadata": {},
   "outputs": [
    {
     "data": {
      "text/plain": [
       "3"
      ]
     },
     "execution_count": 1,
     "metadata": {},
     "output_type": "execute_result"
    }
   ],
   "source": [
    "# Función que suma dos enteros\n",
    "def sum(a:int, b:int):\n",
    "    \"This function takes to integers and return the sum of them\"\n",
    "    if type(a) != int:\n",
    "        raise ValueError(\"'a' must be an integer\")\n",
    "    if type(b) != int:\n",
    "        raise ValueError(\"'a' must be an integer\")\n",
    "    return a+b"
   ]
  },
  {
   "cell_type": "code",
   "execution_count": 5,
   "metadata": {},
   "outputs": [],
   "source": [
    "# Función que multiplica dos flotantes.\n",
    "def mult(a:float, b:float):\n",
    " \n",
    " return a * b\n"
   ]
  }
 ],
 "metadata": {
  "kernelspec": {
   "display_name": "Python 3",
   "language": "python",
   "name": "python3"
  },
  "language_info": {
   "codemirror_mode": {
    "name": "ipython",
    "version": 3
   },
   "file_extension": ".py",
   "mimetype": "text/x-python",
   "name": "python",
   "nbconvert_exporter": "python",
   "pygments_lexer": "ipython3",
   "version": "3.11.0"
  },
  "orig_nbformat": 4,
  "vscode": {
   "interpreter": {
    "hash": "f84b4a2b1a841e1c31518ff4d1de4c6ad3a2d03e067651bef0cbbc0fd6bf7f51"
   }
  }
 },
 "nbformat": 4,
 "nbformat_minor": 2
}
