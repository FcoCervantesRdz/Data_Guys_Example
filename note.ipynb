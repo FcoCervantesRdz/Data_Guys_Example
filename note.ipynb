{
 "cells": [
  {
   "attachments": {},
   "cell_type": "markdown",
   "metadata": {},
   "source": [
    "## Funciones"
   ]
  },
  {
   "cell_type": "code",
   "execution_count": 15,
   "metadata": {},
   "outputs": [],
   "source": [
    "# Función que saluda dado un nombre\n",
    "def holi (a: str):\n",
    "    return print('hola ' + a)"
   ]
  },
  {
   "cell_type": "code",
   "execution_count": 17,
   "metadata": {},
   "outputs": [
    {
     "name": "stdout",
     "output_type": "stream",
     "text": [
      "hola yo\n"
     ]
    }
   ],
   "source": [
    "a = 'yo'\n",
    "holi(a)"
   ]
  },
  {
   "cell_type": "code",
   "execution_count": 1,
   "metadata": {},
   "outputs": [
    {
     "data": {
      "text/plain": [
       "3"
      ]
     },
     "execution_count": 1,
     "metadata": {},
     "output_type": "execute_result"
    }
   ],
   "source": [
    "# Función que suma dos enteros\n",
    "def sum(a:int, b:int):\n",
    "    \"This function takes to integers and return the sum of them\"\n",
    "    if type(a) != int:\n",
    "        raise ValueError(\"'a' must be an integer\")\n",
    "    if type(b) != int:\n",
    "        raise ValueError(\"'a' must be an integer\")\n",
    "    return a+b"
   ]
  },
  {
   "cell_type": "code",
   "execution_count": 5,
   "metadata": {},
   "outputs": [],
   "source": [
    "# Función que multiplica dos flotantes.\n",
    "def mult(a:float, b:float):\n",
    " \n",
    " return a * b\n"
   ]
  }
 ],
 "metadata": {
  "kernelspec": {
   "display_name": "Python 3.11.1 64-bit",
   "language": "python",
   "name": "python3"
  },
  "language_info": {
   "codemirror_mode": {
    "name": "ipython",
    "version": 3
   },
   "file_extension": ".py",
   "mimetype": "text/x-python",
   "name": "python",
   "nbconvert_exporter": "python",
   "pygments_lexer": "ipython3",
   "version": "3.11.1"
  },
  "orig_nbformat": 4,
  "vscode": {
   "interpreter": {
    "hash": "236d33beb26cb83c61eead03a6a5be476687ecf5ee448cfb6d28c79803532747"
   }
  }
 },
 "nbformat": 4,
 "nbformat_minor": 2
}
